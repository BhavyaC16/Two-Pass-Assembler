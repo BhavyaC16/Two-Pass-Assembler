{
 "cells": [
  {
   "cell_type": "markdown",
   "metadata": {},
   "source": [
    "# Documentation\n",
    "---"
   ]
  },
  {
   "cell_type": "markdown",
   "metadata": {},
   "source": [
    "## Project 1 - Two Pass Assembler\n",
    "\n",
    "Course: Computer Organization <br> \n",
    "\n",
    "Project Members: <br>\n",
    "1. Bhavya Chopra 2018333  <br>\n",
    "2. Sonali Singhal 2018317"
   ]
  },
  {
   "cell_type": "markdown",
   "metadata": {},
   "source": [
    "## Assumptions\n",
    "### General\n",
    "1. Clear accumulator (CLR) resets the accumulator. No address is present in the accumulator\n",
    "2. Execution stops after the end statement. The code written after the end statement is not executed.\n",
    "3. START does **not** need to be specified in the code and it is treated as a comment if it is used\n",
    "4. Label name **cannot** be an opcode name and cannot have a Macro name anywhere in it. For example if ADDTWO is a macro, then: \"SUB\",\"ADD\",\"ADDTWOXYZ\" are invalid Labels. While this can be handled easily, it is not considered to be a good programming practice.\n",
    "5. Comments can be added with the help of  **; or /**\n",
    "6. Variable names and label names can be alpha-Numeric. However, the same variable cannot be used as a label name and vice versa\n",
    "7. Literals can be of any value, memory is allotted accordingly.\n",
    "9. If the size of the literal uses more than 1 memory space, then only the first is shown in the machine code. Remaining memory mapping can be seen from the LiteralTable\n",
    "9. The maximum memory size = 12 bits"
   ]
  },
  {
   "cell_type": "markdown",
   "metadata": {},
   "source": [
    "### Macros\n",
    "1. Macros can be handled\n",
    "2. Macro is defined at the top of the file before the code where macro is called\n",
    "3. Macro calls cannot be made inside other macro definitions"
   ]
  },
  {
   "cell_type": "markdown",
   "metadata": {},
   "source": [
    "### Operands\n",
    "1. For ADD,MUL and SUB operand should be a defined address/variable or a constant\n",
    "2. For BRP,BRN,BRZ should have a defined valid label \n",
    "3. SAC,INP,DSP,LAC should have an address/Variable (not a constant)\n",
    "4. DIV should have first parameter as address, variable or constant, second and third can be address or variable but not a constant"
   ]
  },
  {
   "cell_type": "markdown",
   "metadata": {},
   "source": [
    "---"
   ]
  },
  {
   "cell_type": "markdown",
   "metadata": {},
   "source": [
    "## Design"
   ]
  },
  {
   "cell_type": "markdown",
   "metadata": {},
   "source": [
    "### 1. Data Table\n",
    "**Contains all the (numeric) addresses defined in the code**\n",
    "1. **Value:** Integer address value\n",
    "2. **Defined/Undefined:** Defined if the address is taking in a value using INP. Eg INP 157, else undefined\n",
    "Example: <br>\n",
    "```\n",
    "INP 157\n",
    "LAC 157\n",
    "DIV 157 90 95\n",
    "```\n",
    "\n",
    "|Value|Defined/Undefined|\n",
    "|-----|-----------------|\n",
    "|157  |Defined          |\n",
    "|90   |Undefined        |\n",
    "|95   |Undefined        |"
   ]
  },
  {
   "cell_type": "markdown",
   "metadata": {},
   "source": [
    "### 2. Label Table\n",
    "**Contains all the Labels defined in the main code and the modified labels created after expanding macro calls.**\n",
    "1. **Label name:** Name of the label as defined in the code\n",
    "2. **Virtual Address:** Virtual address allotted to the label during the first pass\n",
    "3. **Code:** refers to the name of the macro or Main code\n",
    "4. **Physical Address:** Physical address allotted to the label during the second pass\n",
    "\n",
    "Example: <br>\n",
    "```\n",
    "ADDTWO MACRO A,B,C\n",
    "L1: LAC A\n",
    "ADD B\n",
    "SAC C\n",
    "MEND\n",
    "L1: INP 157\n",
    "LAC 157\n",
    "ADDTWO 157 '4' 90\n",
    "``` \n",
    "\n",
    "|Name     |Virtual Address  |Code     |Physical Address|\n",
    "|---------|-----------------|---------|----------------|\n",
    "|L1       |000000000000     |Main     |000000000010    |\n",
    "|ADDTWOL11|000000000010     |ADDTWO   |000000000100    |"
   ]
  },
  {
   "cell_type": "markdown",
   "metadata": {},
   "source": [
    "### 3. Symbol Table\n",
    "**Contains all the variables defined in the main code**\n",
    "1. **Name:** Variable name defined in the main code\n",
    "2. **Physical Address:** Physical address allotted to the variable during the second pass\n",
    "\n",
    "Example: <br>\n",
    "```\n",
    "INP A\n",
    "SAC B\n",
    "```\n",
    "\n",
    "|Name |Physical Address |\n",
    "|-----|-----------------|\n",
    "|A    |000001001010     |\n",
    "|B    |000001001110     |"
   ]
  },
  {
   "cell_type": "markdown",
   "metadata": {},
   "source": [
    "### 4. Literal Table \n",
    "**Contains all the constants defined in the code**\n",
    "1. **Name: String value of the constant eg ‘1’\n",
    "2. **Value:** Integer value of the literal\n",
    "3. **Size:** Word size of the literal considering 2s complement for storing data\n",
    "4. **Physical address:** Physical address allotted to the Literal during the second pass\n",
    "\n",
    "Example: <br>\n",
    "```\n",
    "ADD '12345'\n",
    "SUB '-96'\n",
    "```\n",
    "\n",
    "|Name     |Value    |Size     |Physical Address           |\n",
    "|---------|---------|---------|---------------------------|\n",
    "|'12345'  |12345    |2        |[000000000010,000000000011 |\n",
    "|'-96'    |-96      |1        |000000000100               |"
   ]
  },
  {
   "cell_type": "markdown",
   "metadata": {},
   "source": [
    "### 6. Macro Table\n",
    "**Contains all the macros and their definitions**\n",
    "1. **Name:** Name of the macro\n",
    "2. **Macro Parameters:** Parameters used with the macro. Eg ADDTWO MACRO A,B,C -> parameters=A,B,C\n",
    "3. **Instruction Table:** Instructions present in the macro without modifications\n",
    "4. **Labels:** Labels defined in the macro without modifications\n",
    "\n",
    "Example: <br>\n",
    "```\n",
    "ADDTWO MACRO A,B,C\n",
    "L1: LAC A\n",
    "ADD B\n",
    "L2: SAC C\n",
    "MEND\n",
    "```\n",
    "|Name     |Macro Parameters |Labels     |Instruction Table               |\n",
    "|---------|-----------------|-----------|--------------------------------|\n",
    "|ADDTWO   |A,B,C            |L1,L2      |[[L1:,LAC,A],[ADD,B],[L2:,SAC,C]|"
   ]
  },
  {
   "cell_type": "markdown",
   "metadata": {},
   "source": [
    "### 7. Instruction Table\n",
    "**Contains all the instructions and expanded Macro calls**\n",
    "1. **Virtual Address:** Generates a new virtual address for every instruction\n",
    "2. **Instruction:** the complete instruction\n",
    "When a macro call is encountered, the instructions present in the macro table for the respective macro definition is substituted in the this instruction table\n",
    "\n",
    "Example: <br>\n",
    "```\n",
    "ADDTWO MACRO A,B,C\n",
    "L1: LAC A\n",
    "ADD B\n",
    "SAC C\n",
    "BRP L1\n",
    "MEND\n",
    "L1: INP 157\n",
    "LAC 157\n",
    "ADDTWO 157 '4' 90\n",
    "``` \n",
    "\n",
    "|Virtual Address |Instruction                             |\n",
    "|----------------|----------------------------------------|\n",
    "|000000000000    |[L1:,INP,157]                           |\n",
    "|000000000001    |[LAC,157]                               |\n",
    "|000000000010    |[ADDTWOL11,LAC,157]                     |\n",
    "|000000000011    |[ADD,'4']                               |\n",
    "|000000000100    |[SAC,90]                                |\n",
    "|000000000101    |[BRP,ADDTWOL11]                         |"
   ]
  },
  {
   "cell_type": "markdown",
   "metadata": {},
   "source": [
    "---"
   ]
  },
  {
   "cell_type": "markdown",
   "metadata": {},
   "source": [
    "## Errors"
   ]
  },
  {
   "cell_type": "markdown",
   "metadata": {},
   "source": [
    "### Errors handled in first pass"
   ]
  },
  {
   "cell_type": "markdown",
   "metadata": {},
   "source": [
    "1. **Invalid Label name**\n",
    "\n",
    "There are two conditions for a label name to be invalid. Label cannot have a macro name in it and it cannot be an opcode name. This error occus if such a label is detected. Examples: `ADD: SUB 123` or `ADDTWOLR: SUB 123` (assuming a macro named ADDTWO is defined in the code)"
   ]
  },
  {
   "cell_type": "markdown",
   "metadata": {},
   "source": [
    "2. **Multiple label definitions**\n",
    "\n",
    "This error occurs when a label is defined/declared multiple times. Label declaration includes statements such as `L1: ADD 589`"
   ]
  },
  {
   "cell_type": "markdown",
   "metadata": {},
   "source": [
    "3. **Defined label names cannot be used as variable names and vice versa**\n",
    "\n",
    "Since both label names and variable names can be alpha-numeric, it is possible for `ADD L4` and `BRN L4` can both be valid. To avoid this, an error is thrown if the label is declared as a variable before or vice versa."
   ]
  },
  {
   "cell_type": "markdown",
   "metadata": {},
   "source": [
    "4. **Address supplied should be lesser than 12 bits=4096.**\n",
    "\n",
    "Since the maximum size of the memory is 12 bit, user cannot access memory cells greater than 4096. This error is thrown if the user tries to access addresses greater than 4096 such as `SAC 12392`"
   ]
  },
  {
   "cell_type": "markdown",
   "metadata": {},
   "source": [
    "5. **Incorrect number of parameters supplied for an opcode** \n",
    "\n",
    "This error will be throws in the parameters/arguments supplied to the argument is greater than or less than the number of arguments required by the opcode. For example `CLA 88` or `DIV 120 90`"
   ]
  },
  {
   "cell_type": "markdown",
   "metadata": {},
   "source": [
    "6. **Invalid opcode name/Macro name**\n",
    "\n",
    "This error is thrown if the opcode supplied is not a macro call and neither is it a part of the available opcodes i.e. ['CLA',LAC','SAC','ADD','SUB','BRZ','BRN','BRP','INP','DSP','MUL','DIV','STP']\n",
    "For example `WHDK 123`"
   ]
  },
  {
   "cell_type": "markdown",
   "metadata": {},
   "source": [
    "7. **END of program not found**\n",
    "\n",
    "This error is throw if the assembly directive `END` is not found anywhere in the code."
   ]
  },
  {
   "cell_type": "markdown",
   "metadata": {},
   "source": [
    "8. **Multiple macro definitions**\n",
    "\n",
    "This error occurs when a macro is defined/declared multiple times. Macro declaration includes statements such as `ADDTWO MACRO ABC`"
   ]
  },
  {
   "cell_type": "markdown",
   "metadata": {},
   "source": [
    "9. **Incorrect number of parameters supplied in a macro** \n",
    "\n",
    "This error occurs if the parameters supplied during the macro call does not match the number of parameters supplied during macro definition. For example: (consider the ADDTWO macro declared above) `ADDTWO 157 158` or `ADDTWO '5' '6' 192 102` "
   ]
  },
  {
   "cell_type": "markdown",
   "metadata": {},
   "source": [
    "10. **Unidentified symbol used in a macro**\n",
    "\n",
    "This error occurs if a symbol(variable) is used in a macro which is not a one of the parameters supplied. For example: (consider the ADDTWO macro declared above `ADDTWO MACRO A,B,C` and Macro call `ADDTWO 157, D,E`), `ADD F` will throw this error. "
   ]
  },
  {
   "cell_type": "markdown",
   "metadata": {},
   "source": [
    "11. **MEND/ENDM for macro not found**\n",
    "\n",
    "This error is throw if the assembly directive `MEND` to specify the end of a MACRO is not found anywhere in the code."
   ]
  },
  {
   "cell_type": "markdown",
   "metadata": {},
   "source": [
    "### Errors handled in second pass"
   ]
  },
  {
   "cell_type": "markdown",
   "metadata": {},
   "source": [
    "1. **Not enough space for complete program**\n",
    "\n",
    "This error is rare and will be thrown if the memory spaces occupied by the direct addresses, literals, symbols and instructions exceeds the total available memory or if there is no contiguous space available to fit all the instructions."
   ]
  },
  {
   "cell_type": "markdown",
   "metadata": {},
   "source": [
    "2. **Opcode can only have address/variable as operand**\n",
    "\n",
    "Operands supplied for LAC,DSP,INP and second and third operand for DIV should be an address/variable only. No constants or labels allowed. "
   ]
  },
  {
   "cell_type": "markdown",
   "metadata": {},
   "source": [
    "3. **Opcode can only have a valid label as operand**\n",
    "\n",
    "Operands supplied for BRN,BRZ,BRP should have a defined and valid label. This error is thrown if the operand is anything but a defined label."
   ]
  },
  {
   "cell_type": "markdown",
   "metadata": {},
   "source": [
    "4. **Opcode can only have address or variable or constant as operand**\n",
    "\n",
    "Operands supplied for ADD,MUL,SUB and first operand for DIV should be a defined address or a constant (not undefined address)"
   ]
  },
  {
   "cell_type": "markdown",
   "metadata": {},
   "source": [
    "5. **Operand is a label and not a symbol**\n",
    "\n",
    "This error is thrown if the variable is declared as a label as well or if the variable is not found in the symbol table. "
   ]
  },
  {
   "cell_type": "code",
   "execution_count": null,
   "metadata": {},
   "outputs": [],
   "source": []
  }
 ],
 "metadata": {
  "kernelspec": {
   "display_name": "Python 3",
   "language": "python",
   "name": "python3"
  },
  "language_info": {
   "codemirror_mode": {
    "name": "ipython",
    "version": 3
   },
   "file_extension": ".py",
   "mimetype": "text/x-python",
   "name": "python",
   "nbconvert_exporter": "python",
   "pygments_lexer": "ipython3",
   "version": "3.7.3"
  }
 },
 "nbformat": 4,
 "nbformat_minor": 2
}
